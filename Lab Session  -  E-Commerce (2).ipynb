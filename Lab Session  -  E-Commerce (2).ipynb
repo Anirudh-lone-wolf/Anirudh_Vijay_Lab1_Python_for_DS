{
 "cells": [
  {
   "cell_type": "markdown",
   "id": "2c8f47d3",
   "metadata": {
    "id": "2c8f47d3"
   },
   "source": [
    "# Lab Session"
   ]
  },
  {
   "cell_type": "markdown",
   "id": "f637aba6",
   "metadata": {
    "id": "f637aba6"
   },
   "source": [
    "## <font color='blue'> Table Of Contents </font>\n",
    "- Problem Statement \n",
    "- Load required libraries\n",
    "- Connect to DB using mysql-connector-python package\n",
    "- Create database named `e_commerce`\n",
    "- Create tables and insert data into tables as specified in the question\n",
    "- Read all the questions and write sql queries to meet the objective "
   ]
  },
  {
   "cell_type": "markdown",
   "id": "1073fc90",
   "metadata": {
    "id": "1073fc90"
   },
   "source": [
    "## <font color='blue'> Problem Statement </font>\n",
    "###  An E-commerce website manages its data in the form of various tables.\n",
    "You need to create a Database called `e_commerce` and various tables in it. The tables needed and attributes which need to be in every table are given before hand. All you have to do is create tables with data in it and answer some of the questions that follows."
   ]
  },
  {
   "cell_type": "markdown",
   "id": "48787355",
   "metadata": {
    "id": "48787355"
   },
   "source": [
    "### e_commerce Schema:"
   ]
  },
  {
   "cell_type": "markdown",
   "id": "78938fbc",
   "metadata": {
    "id": "78938fbc"
   },
   "source": [
    "![e_commerce%20_schema.png](attachment:e_commerce%20_schema.png)"
   ]
  },
  {
   "cell_type": "markdown",
   "id": "d9abe6c7",
   "metadata": {
    "id": "d9abe6c7"
   },
   "source": [
    "### Load Required Libraries"
   ]
  },
  {
   "cell_type": "code",
   "execution_count": 2,
   "id": "0178d08e",
   "metadata": {
    "id": "0178d08e"
   },
   "outputs": [],
   "source": [
    "import numpy as np\n",
    "import pandas as pd\n",
    "import mysql.connector"
   ]
  },
  {
   "cell_type": "markdown",
   "id": "d7d7fd5c",
   "metadata": {
    "id": "d7d7fd5c"
   },
   "source": [
    "### Connect to DB using Mysql-connector-python package"
   ]
  },
  {
   "cell_type": "code",
   "execution_count": 2,
   "id": "ef7bef72",
   "metadata": {
    "id": "ef7bef72"
   },
   "outputs": [
    {
     "data": {
      "text/plain": [
       "<mysql.connector.cursor_cext.CMySQLCursor at 0x210921cb7d0>"
      ]
     },
     "execution_count": 2,
     "metadata": {},
     "output_type": "execute_result"
    }
   ],
   "source": [
    "## Lets connect to Mysql server\n",
    "connection = mysql.connector.connect(host =\"localhost\",\n",
    "                                     user =\"root\",\n",
    "                                     passwd =\"chenford@MYSQL/19423\")\n",
    "# creating a cursor object\n",
    "cursorObject = connection.cursor()\n",
    "cursorObject"
   ]
  },
  {
   "cell_type": "markdown",
   "id": "9d55e510",
   "metadata": {
    "id": "9d55e510"
   },
   "source": [
    "### You are required to create a database named 'e_commerce'"
   ]
  },
  {
   "cell_type": "code",
   "execution_count": 3,
   "id": "42a154f2",
   "metadata": {
    "id": "42a154f2"
   },
   "outputs": [
    {
     "data": {
      "text/plain": [
       "<mysql.connector.cursor_cext.CMySQLCursor at 0x18af8f2aa90>"
      ]
     },
     "execution_count": 3,
     "metadata": {},
     "output_type": "execute_result"
    }
   ],
   "source": [
    "cursorObject.execute(\"CREATE DATABASE e_commerce\")\n",
    "\n",
    "## Lets connect to Mysql server\n",
    "connection = mysql.connector.connect(host =\"localhost\",\n",
    "                                     user =\"root\",\n",
    "                                     passwd =\"chenford@MYSQL/19423\",\n",
    "                                    database='e_commerce')\n",
    "# creating a cursor object\n",
    "cursorObject = connection.cursor()\n",
    "cursorObject"
   ]
  },
  {
   "cell_type": "markdown",
   "id": "480dc986",
   "metadata": {
    "id": "480dc986"
   },
   "source": [
    "### Q1. Create tables for supplier, customer, category, product, productDetails, order, rating to store the data for the E-commerce with the schema definition given below.\n",
    "\n",
    "\n",
    "- **`supplier`**(SUPP_ID int primary key, SUPP_NAME varchar(50), SUPP_CITY varchar(50), SUPP_PHONE varchar(10))\n",
    "\n",
    "\n",
    "- **`customer`** (CUS_ID INT NOT NULL, CUS_NAME VARCHAR(20) NULL DEFAULT NULL, CUS_PHONE VARCHAR(10), CUS_CITY varchar(30) ,CUS_GENDER CHAR,PRIMARY KEY (CUS_ID))\n",
    "\n",
    "\n",
    "- **`category`** (CAT_ID INT NOT NULL, CAT_NAME VARCHAR(20) NULL DEFAULT NULL,PRIMARY KEY (CAT_ID))\n",
    "\n",
    "\n",
    "- **`product`** (PRO_ID INT NOT NULL, PRO_NAME VARCHAR(20) NULL DEFAULT NULL, PRO_DESC VARCHAR(60) NULL DEFAULT NULL, CAT_ID INT NOT NULL,PRIMARY KEY (PRO_ID),FOREIGN KEY (CAT_ID) REFERENCES CATEGORY (CAT_ID))\n",
    "\n",
    "\n",
    "- **`product_details`** (PROD_ID INT NOT NULL, PRO_ID INT NOT NULL, SUPP_ID INT NOT NULL, PROD_PRICE INT NOT NULL,\n",
    "  PRIMARY KEY (PROD_ID),FOREIGN KEY (PRO_ID) REFERENCES PRODUCT (PRO_ID), FOREIGN KEY (SUPP_ID) REFERENCES SUPPLIER(SUPP_ID))\n",
    "  \n",
    "  \n",
    "- **`order`** (ORD_ID INT NOT NULL, ORD_AMOUNT INT NOT NULL, ORD_DATE DATE, CUS_ID INT NOT NULL, PROD_ID INT NOT NULL,PRIMARY KEY (ORD_ID),FOREIGN KEY (CUS_ID) REFERENCES CUSTOMER(CUS_ID),FOREIGN KEY (PROD_ID) REFERENCES PRODUCT_DETAILS(PROD_ID))\n",
    "\n",
    "\n",
    "- **`rating`** (RAT_ID INT NOT NULL, CUS_ID INT NOT NULL, SUPP_ID INT NOT NULL, RAT_RATSTARS INT NOT NULL,PRIMARY KEY (RAT_ID),FOREIGN KEY (SUPP_ID) REFERENCES SUPPLIER (SUPP_ID),FOREIGN KEY (CUS_ID) REFERENCES CUSTOMER(CUS_ID))"
   ]
  },
  {
   "cell_type": "code",
   "execution_count": 4,
   "id": "967b718f",
   "metadata": {
    "id": "967b718f"
   },
   "outputs": [],
   "source": [
    "create_tables_query =\"\"\"\n",
    "CREATE TABLE supplier (`SUPP_ID` int primary key,`SUPP_NAME` varchar(50), `SUPP_CITY` varchar(50),`SUPP_PHONE` varchar(10));\n",
    "                    \n",
    "CREATE TABLE customer (`CUS_ID` INT NOT NULL,`CUS_NAME` VARCHAR(20) NULL DEFAULT NULL, `CUS_PHONE` VARCHAR(10),\n",
    "`CUS_CITY` varchar(30) ,`CUS_GENDER` CHAR,PRIMARY KEY (`CUS_ID`));\n",
    "                    \n",
    "CREATE TABLE category (`CAT_ID` INT NOT NULL,`CAT_NAME` VARCHAR(20) NULL DEFAULT NULL, PRIMARY KEY (`CAT_ID`));\n",
    "\n",
    "CREATE TABLE product (`PRO_ID` INT NOT NULL,`PRO_NAME` VARCHAR(20) NULL DEFAULT NULL, `PRO_DESC` VARCHAR(60) NULL DEFAULT NULL,\n",
    "`CAT_ID` INT NOT NULL,PRIMARY KEY (`PRO_ID`), FOREIGN KEY (`CAT_ID`) REFERENCES CATEGORY (`CAT_ID`));\n",
    "\n",
    "CREATE TABLE product_details (`PROD_ID` INT NOT NULL,`PRO_ID` INT NOT NULL,`SUPP_ID` INT NOT NULL,`PROD_PRICE` INT NOT NULL, \n",
    "PRIMARY KEY (`PROD_ID`),FOREIGN KEY (`PRO_ID`) REFERENCES PRODUCT (`PRO_ID`), \n",
    "FOREIGN KEY (`SUPP_ID`) REFERENCES SUPPLIER(`SUPP_ID`));\n",
    "                      \n",
    "CREATE TABLE orders (`ORD_ID` INT NOT NULL,`ORD_AMOUNT` INT NOT NULL,`ORD_DATE` DATE, `CUS_ID` INT NOT NULL,\n",
    "`PROD_ID` INT NOT NULL, PRIMARY KEY (`ORD_ID`), FOREIGN KEY (`CUS_ID`) REFERENCES CUSTOMER(`CUS_ID`), \n",
    "FOREIGN KEY (`PROD_ID`) REFERENCES PRODUCT_DETAILS(`PROD_ID`));\n",
    "\n",
    "CREATE TABLE rating (`RAT_ID` INT NOT NULL,`CUS_ID` INT NOT NULL, `SUPP_ID` INT NOT NULL,`RAT_RATSTARS` INT NOT NULL,\n",
    "PRIMARY KEY (`RAT_ID`), FOREIGN KEY (`SUPP_ID`) REFERENCES SUPPLIER (`SUPP_ID`), \n",
    "FOREIGN KEY (`CUS_ID`) REFERENCES CUSTOMER(`CUS_ID`));\n",
    "\"\"\"\n",
    "                  \n",
    "# Executing the query\n",
    "cursorObject.execute(create_tables_query)"
   ]
  },
  {
   "cell_type": "markdown",
   "id": "1f653731",
   "metadata": {
    "id": "1f653731"
   },
   "source": [
    "### Q2. Insert the following data in the table created above\n",
    "#### `Note:` If you are getting any error while inserting the data into tables, Kindly close the connection and reconnect\n",
    "\n",
    "#### Table:  supplier\n",
    "| SUPP_ID | SUPP_NAME | SUPP_CITY | SUPP_PHONE |\n",
    "| --- | --- | --- | --- | \n",
    "| 1 | Rajesh Retails | Delhi | 1234567890 |\n",
    "| 2 | Appario Ltd. | Mumbai | 258963147032 | \n",
    "| 3 | Knome products | Bangalore | 9785462315 |\n",
    "| 4 | Bansal Retails | Kochi | 8975463285 |\n",
    "| 5 | Mittal Ltd. | Lucknow | 7898456532 |"
   ]
  },
  {
   "cell_type": "code",
   "execution_count": 7,
   "id": "f6dddd07",
   "metadata": {
    "id": "f6dddd07"
   },
   "outputs": [],
   "source": [
    "# insert into \"supplier\" table\n",
    "insert_supplier = \"\"\"\n",
    "insert into supplier(SUPP_ID, SUPP_NAME, SUPP_CITY, SUPP_PHONE) values (%s, %s, %s, %s)\n",
    "\"\"\"\n",
    "\n",
    "val_supplier = [(1,\"Rajesh Retails\",\"Delhi\",'1234567890'),\n",
    "       (2,\"Appario Ltd.\",\"Mumbai\",'2589631470'),\n",
    "       (3,\"Knome products\",\"Banglore\",'9785462315'),\n",
    "       (4,\"Bansal Retails\",\"Kochi\",'8975463285'),\n",
    "       (5,\"Mittal Ltd.\",\"Lucknow\",'7898456532')]\n",
    "\n",
    "cursorObject.executemany(insert_supplier, val_supplier)\n",
    "connection.commit()"
   ]
  },
  {
   "cell_type": "markdown",
   "id": "e8a070a6",
   "metadata": {
    "id": "e8a070a6"
   },
   "source": [
    "#### Table:  customer\n",
    "| CUS_ID | CUS_NAME | SUPP_PHONE | CUS_CITY | CUS_GENDER\n",
    "| --- | --- | --- | --- | --- |\n",
    "| 1 | AAKASH | 9999999999 | DELHI | M |\n",
    "| 2 | AMAN | 9785463215 | NOIDA | M |\n",
    "| 3 | NEHA | 9999999998 | MUMBAI | F |\n",
    "| 4 | MEGHA | 9994562399 | KOLKATA | F |\n",
    "| 5 | PULKIT | 7895999999 | LUCKNOW | M |"
   ]
  },
  {
   "cell_type": "code",
   "execution_count": 8,
   "id": "15a4ee87",
   "metadata": {
    "id": "15a4ee87"
   },
   "outputs": [],
   "source": [
    "# insert into \"customer\" table\n",
    "\n",
    "insert_query = \"INSERT INTO customer (CUS_ID, CUS_NAME, CUS_PHONE, CUS_CITY, CUS_GENDER) VALUES (%s, %s, %s, %s, %s)\"\n",
    "val = [(1,\"AAKASH\",'9999999999',\"DELHI\",'M'),\n",
    "       (2,\"AMAN\",'9785463215',\"NOIDA\",'M'),\n",
    "       (3,\"NEHA\",'9999999999',\"MUMBAI\",'F'),\n",
    "       (4,\"MEGHA\",'9994562399',\"KOLKATA\",'F'),\n",
    "       (5,\"PULKIT\",'7895999999',\"LUCKNOW\",'M')]\n",
    "\n",
    "\n",
    "cursorObject.executemany(insert_query, val)\n",
    "connection.commit()"
   ]
  },
  {
   "cell_type": "markdown",
   "id": "b68bfbc2",
   "metadata": {
    "id": "b68bfbc2"
   },
   "source": [
    "#### Table:  category\n",
    "| CAT_ID | CAT_NAME | \n",
    "| --- | --- |  \n",
    "| 1 | BOOKS |\n",
    "| 2 | GAMES |  \n",
    "| 3 | GROCERIES | \n",
    "| 4 | ELECTRONICS | \n",
    "| 5 | CLOTHES | "
   ]
  },
  {
   "cell_type": "code",
   "execution_count": 9,
   "id": "05a00abc",
   "metadata": {
    "id": "05a00abc"
   },
   "outputs": [],
   "source": [
    "# insert into \"category\" table\n",
    "\n",
    "insert_query = \"INSERT INTO category (CAT_ID, CAT_NAME) VALUES (%s, %s)\"\n",
    "val = [(1,\"BOOKS\"),\n",
    "       (2,\"GAMES\"),\n",
    "       (3,\"GROCERIES\"),\n",
    "       (4,\"ELECTRONICS\"),\n",
    "       (5,\"CLOTHES\")]\n",
    "\n",
    "\n",
    "cursorObject.executemany(insert_query, val)\n",
    "connection.commit()"
   ]
  },
  {
   "cell_type": "markdown",
   "id": "eb3bc592",
   "metadata": {
    "id": "eb3bc592"
   },
   "source": [
    "#### Table:  product\n",
    "| PRO_ID | PRO_NAME | PRO_DESC | CAT_ID |\n",
    "| --- | --- | --- | --- | \n",
    "| 1 | GTA V | DFJDJFDJFDJFDJFJF | 2 |\n",
    "| 2 | TSHIRT | DFDFJDFJDKFD | 5 | \n",
    "| 3 | ROG LAPTOP | DFNTTNTNTERND | 4 |\n",
    "| 4 | OATS | REURENTBTOTH | 3 |\n",
    "| 5 | HARRY POTTER | NBEMCTHTJTH | 1 |\n"
   ]
  },
  {
   "cell_type": "code",
   "execution_count": 10,
   "id": "cdfbdfad",
   "metadata": {
    "id": "cdfbdfad"
   },
   "outputs": [],
   "source": [
    "# insert into \"product\" table\n",
    "\n",
    "insert_query = \"INSERT INTO product (PRO_ID, PRO_NAME, PRO_DESC, CAT_ID) VALUES (%s, %s, %s, %s)\"\n",
    "\n",
    "val = [(1,\"GTA V\",\"DFJDJFDJFDJFDJFJF\",2),\n",
    "       (2,\"TSHIRT\",\"DFDFJDFJDKFD\",5),\n",
    "       (3,\"ROG LAPTOP\",\"DFNTTNTNTERND\",4),\n",
    "       (4,\"OATS\",\"REURENTBTOTH\",3),\n",
    "       (5,\"HARRY POTTER\",\"NBEMCTHTJTH\",1)]\n",
    "\n",
    "\n",
    "cursorObject.executemany(insert_query, val)\n",
    "connection.commit()"
   ]
  },
  {
   "cell_type": "markdown",
   "id": "cfa8a47d",
   "metadata": {
    "id": "cfa8a47d"
   },
   "source": [
    "#### Table:  product_details\n",
    "| PROD_ID | PRO_ID | SUPP_ID | PROD_PRICE |\n",
    "| --- | --- | --- | --- | \n",
    "| 1 | 1 | 2 | 1500 |\n",
    "| 2 | 3 | 5 | 30000 | \n",
    "| 3 | 5 | 1 | 3000 |\n",
    "| 4 | 2 | 3 | 2500 |\n",
    "| 5 | 4 | 1 | 1000 |"
   ]
  },
  {
   "cell_type": "code",
   "execution_count": 11,
   "id": "c18ea964",
   "metadata": {
    "id": "c18ea964"
   },
   "outputs": [],
   "source": [
    "# insert into \"product_details\" table\n",
    "\n",
    "insert_query = \"INSERT INTO product_details (PROD_ID, PRO_ID, SUPP_ID, PROD_PRICE) VALUES (%s, %s, %s, %s)\"\n",
    "val = [(1,1,2,1500),\n",
    "       (2,3,5,30000),\n",
    "       (3,5,1,3000),\n",
    "       (4,2,3,2500),\n",
    "       (5,4,1,1000)]\n",
    "\n",
    "\n",
    "cursorObject.executemany(insert_query, val)\n",
    "connection.commit()"
   ]
  },
  {
   "cell_type": "markdown",
   "id": "1df49086",
   "metadata": {
    "id": "1df49086"
   },
   "source": [
    "#### Table:  orders\n",
    "| ORD_ID | ORD_AMOUNT | ORD_DATE | CUS_ID | PROD_ID\n",
    "| --- | --- | --- | --- | --- |\n",
    "| 20 | 1500 | 2021-10-12 | 3 | 5 |\n",
    "| 25 | 30500 | 2021-09-16 | 5 | 2 |\n",
    "| 26 | 2000 | 2021-10-05 | 1 | 1 |\n",
    "| 30 | 3500 | 2021-08-16 | 4 | 3 |\n",
    "| 50 | 2000 | 2021-10-06 | 2 | 1 |"
   ]
  },
  {
   "cell_type": "code",
   "execution_count": 12,
   "id": "0d97dc92",
   "metadata": {
    "id": "0d97dc92"
   },
   "outputs": [],
   "source": [
    "# insert into \"orders\" table\n",
    "\n",
    "insert_query = \"INSERT INTO orders (ORD_ID, ORD_AMOUNT, ORD_DATE, CUS_ID, PROD_ID) VALUES (%s, %s, %s, %s, %s)\"\n",
    "val = [(20,1500,\"2021-10-12\",3,5),\n",
    "       (25,30500,\"2021-09-16\",5,2),\n",
    "       (26,2000,\"2021-10-05\",1,1),\n",
    "       (30,3500,\"2021-08-16\",4,3),\n",
    "       (50,2000,\"2021-10-06\",2,1)]\n",
    "\n",
    "\n",
    "cursorObject.executemany(insert_query, val)\n",
    "connection.commit()"
   ]
  },
  {
   "cell_type": "markdown",
   "id": "75b8ce5f",
   "metadata": {
    "id": "75b8ce5f"
   },
   "source": [
    "#### Table: rating\n",
    "| RAT_ID | CUS_ID | SUPP_ID | RAT_RATSTARS |\n",
    "| --- | --- | --- | --- | \n",
    "| 1 | 2 | 2 | 4 |\n",
    "| 2 | 3 | 4 | 3 | \n",
    "| 3 | 5 | 1 | 5 |\n",
    "| 4 | 1 | 3 | 2 |\n",
    "| 5 | 4 | 5 | 4 |"
   ]
  },
  {
   "cell_type": "code",
   "execution_count": 13,
   "id": "6d5f1e18",
   "metadata": {
    "id": "6d5f1e18"
   },
   "outputs": [],
   "source": [
    "# insert into \"rating\" table\n",
    "\n",
    "insert_query = \"INSERT INTO rating (RAT_ID, CUS_ID, SUPP_ID, RAT_RATSTARS) VALUES (%s, %s, %s, %s)\"\n",
    "val = [(1,2,2,4),\n",
    "       (2,3,4,3),\n",
    "       (3,5,1,5),\n",
    "       (4,1,3,2),\n",
    "       (5,4,5,4)]\n",
    "\n",
    "\n",
    "cursorObject.executemany(insert_query, val)\n",
    "connection.commit()"
   ]
  },
  {
   "cell_type": "markdown",
   "id": "b59361c3",
   "metadata": {
    "id": "b59361c3"
   },
   "source": [
    "### Q3) Display the number of the customer group by their genders who have placed any order of amount greater than or equal to Rs.3000."
   ]
  },
  {
   "cell_type": "code",
   "execution_count": 3,
   "id": "fcafaf3c",
   "metadata": {
    "id": "fcafaf3c"
   },
   "outputs": [
    {
     "data": {
      "text/html": [
       "<div>\n",
       "<style scoped>\n",
       "    .dataframe tbody tr th:only-of-type {\n",
       "        vertical-align: middle;\n",
       "    }\n",
       "\n",
       "    .dataframe tbody tr th {\n",
       "        vertical-align: top;\n",
       "    }\n",
       "\n",
       "    .dataframe thead th {\n",
       "        text-align: right;\n",
       "    }\n",
       "</style>\n",
       "<table border=\"1\" class=\"dataframe\">\n",
       "  <thead>\n",
       "    <tr style=\"text-align: right;\">\n",
       "      <th></th>\n",
       "      <th>CUS_GENDER</th>\n",
       "      <th>COUNT</th>\n",
       "    </tr>\n",
       "  </thead>\n",
       "  <tbody>\n",
       "    <tr>\n",
       "      <th>0</th>\n",
       "      <td>M</td>\n",
       "      <td>1</td>\n",
       "    </tr>\n",
       "    <tr>\n",
       "      <th>1</th>\n",
       "      <td>F</td>\n",
       "      <td>1</td>\n",
       "    </tr>\n",
       "  </tbody>\n",
       "</table>\n",
       "</div>"
      ],
      "text/plain": [
       "  CUS_GENDER  COUNT\n",
       "0          M      1\n",
       "1          F      1"
      ]
     },
     "execution_count": 3,
     "metadata": {},
     "output_type": "execute_result"
    }
   ],
   "source": [
    "Query3 = \"\"\"select customer.cus_gender,count(customer.cus_gender) as count \n",
    "from customer inner join orders on customer.cus_id=orders.cus_id \n",
    "where orders.ord_amount>=3000 group by customer.cus_gender;\"\"\"\n",
    "\n",
    "\n",
    "cursorObject.execute(Query3)\n",
    "output = cursorObject.fetchall()\n",
    "\n",
    "## Lets put the output of this query in pandas DataFrame\n",
    "output_df = pd.DataFrame(output, columns=['CUS_GENDER','COUNT'])\n",
    "output_df"
   ]
  },
  {
   "cell_type": "markdown",
   "id": "e49e04f5",
   "metadata": {
    "id": "e49e04f5"
   },
   "source": [
    "### Q4) Display all the order along with product name ordered by a customer having Customer_Id=2;"
   ]
  },
  {
   "cell_type": "code",
   "execution_count": 4,
   "id": "9dcb7883",
   "metadata": {
    "id": "9dcb7883"
   },
   "outputs": [
    {
     "data": {
      "text/html": [
       "<div>\n",
       "<style scoped>\n",
       "    .dataframe tbody tr th:only-of-type {\n",
       "        vertical-align: middle;\n",
       "    }\n",
       "\n",
       "    .dataframe tbody tr th {\n",
       "        vertical-align: top;\n",
       "    }\n",
       "\n",
       "    .dataframe thead th {\n",
       "        text-align: right;\n",
       "    }\n",
       "</style>\n",
       "<table border=\"1\" class=\"dataframe\">\n",
       "  <thead>\n",
       "    <tr style=\"text-align: right;\">\n",
       "      <th></th>\n",
       "      <th>ORD_ID</th>\n",
       "      <th>ORD_AMOUNT</th>\n",
       "      <th>ORD_DATE</th>\n",
       "      <th>CUS_ID</th>\n",
       "      <th>PROD_ID</th>\n",
       "      <th>PRO_NAME</th>\n",
       "    </tr>\n",
       "  </thead>\n",
       "  <tbody>\n",
       "    <tr>\n",
       "      <th>0</th>\n",
       "      <td>50</td>\n",
       "      <td>2000</td>\n",
       "      <td>2021-10-06</td>\n",
       "      <td>2</td>\n",
       "      <td>1</td>\n",
       "      <td>GTA V</td>\n",
       "    </tr>\n",
       "  </tbody>\n",
       "</table>\n",
       "</div>"
      ],
      "text/plain": [
       "   ORD_ID  ORD_AMOUNT    ORD_DATE  CUS_ID  PROD_ID PRO_NAME\n",
       "0      50        2000  2021-10-06       2        1    GTA V"
      ]
     },
     "execution_count": 4,
     "metadata": {},
     "output_type": "execute_result"
    }
   ],
   "source": [
    "Query4 = \"\"\"select orders.*,product.pro_name from orders ,product_details,product \n",
    "where orders.cus_id=2 and orders.prod_id=product_details.prod_id and product_details.pro_id=product.pro_id;\"\"\"\n",
    "\n",
    "cursorObject.execute(Query4)\n",
    "output = cursorObject.fetchall()\n",
    "\n",
    "\n",
    "output_df = pd.DataFrame(output, columns=['ORD_ID','ORD_AMOUNT','ORD_DATE','CUS_ID','PROD_ID','PRO_NAME'])\n",
    "output_df"
   ]
  },
  {
   "cell_type": "markdown",
   "id": "3a33398e",
   "metadata": {
    "id": "3a33398e"
   },
   "source": [
    "### Q5) Display the Supplier details who can supply more than one product."
   ]
  },
  {
   "cell_type": "code",
   "execution_count": 5,
   "id": "e933b979",
   "metadata": {
    "id": "e933b979"
   },
   "outputs": [
    {
     "data": {
      "text/html": [
       "<div>\n",
       "<style scoped>\n",
       "    .dataframe tbody tr th:only-of-type {\n",
       "        vertical-align: middle;\n",
       "    }\n",
       "\n",
       "    .dataframe tbody tr th {\n",
       "        vertical-align: top;\n",
       "    }\n",
       "\n",
       "    .dataframe thead th {\n",
       "        text-align: right;\n",
       "    }\n",
       "</style>\n",
       "<table border=\"1\" class=\"dataframe\">\n",
       "  <thead>\n",
       "    <tr style=\"text-align: right;\">\n",
       "      <th></th>\n",
       "      <th>SUPP_ID</th>\n",
       "      <th>SUPP_NAME</th>\n",
       "      <th>SUPP_CITY</th>\n",
       "      <th>SUPP_PHONE</th>\n",
       "    </tr>\n",
       "  </thead>\n",
       "  <tbody>\n",
       "    <tr>\n",
       "      <th>0</th>\n",
       "      <td>1</td>\n",
       "      <td>Rajesh Retails</td>\n",
       "      <td>Delhi</td>\n",
       "      <td>1234567890</td>\n",
       "    </tr>\n",
       "  </tbody>\n",
       "</table>\n",
       "</div>"
      ],
      "text/plain": [
       "   SUPP_ID       SUPP_NAME SUPP_CITY  SUPP_PHONE\n",
       "0        1  Rajesh Retails     Delhi  1234567890"
      ]
     },
     "execution_count": 5,
     "metadata": {},
     "output_type": "execute_result"
    }
   ],
   "source": [
    "Query5 = \"\"\"\n",
    "select supplier.* \n",
    "from supplier,product_details \n",
    "where supplier.supp_id in \n",
    "(select product_details.supp_id from product_details \n",
    "group by product_details.supp_id having count(product_details.supp_id)>1) \n",
    "group by supplier.supp_id;\"\"\"\n",
    "\n",
    "cursorObject.execute(Query5)\n",
    "output = cursorObject.fetchall()\n",
    "\n",
    "\n",
    "output_df = pd.DataFrame(output, columns=['SUPP_ID','SUPP_NAME','SUPP_CITY','SUPP_PHONE'])\n",
    "output_df"
   ]
  },
  {
   "cell_type": "markdown",
   "id": "5fd319ef",
   "metadata": {
    "id": "5fd319ef"
   },
   "source": [
    "### Q6) Find the category of the product whose order amount is minimum."
   ]
  },
  {
   "cell_type": "code",
   "execution_count": 4,
   "id": "06f5cb51",
   "metadata": {
    "id": "06f5cb51"
   },
   "outputs": [
    {
     "data": {
      "text/html": [
       "<div>\n",
       "<style scoped>\n",
       "    .dataframe tbody tr th:only-of-type {\n",
       "        vertical-align: middle;\n",
       "    }\n",
       "\n",
       "    .dataframe tbody tr th {\n",
       "        vertical-align: top;\n",
       "    }\n",
       "\n",
       "    .dataframe thead th {\n",
       "        text-align: right;\n",
       "    }\n",
       "</style>\n",
       "<table border=\"1\" class=\"dataframe\">\n",
       "  <thead>\n",
       "    <tr style=\"text-align: right;\">\n",
       "      <th></th>\n",
       "      <th>CAT_NAME</th>\n",
       "      <th>PRO_NAME</th>\n",
       "      <th>ORD_AMOUNT</th>\n",
       "    </tr>\n",
       "  </thead>\n",
       "  <tbody>\n",
       "    <tr>\n",
       "      <th>0</th>\n",
       "      <td>GROCERIES</td>\n",
       "      <td>OATS</td>\n",
       "      <td>1500</td>\n",
       "    </tr>\n",
       "  </tbody>\n",
       "</table>\n",
       "</div>"
      ],
      "text/plain": [
       "    CAT_NAME PRO_NAME  ORD_AMOUNT\n",
       "0  GROCERIES     OATS        1500"
      ]
     },
     "execution_count": 4,
     "metadata": {},
     "output_type": "execute_result"
    }
   ],
   "source": [
    "Query6 = \"\"\"\n",
    "select category.cat_name, product.pro_name, orders.ord_amount from orders inner join product_details on \n",
    "orders.prod_id=product_details.prod_id\n",
    "inner join\n",
    "product on\n",
    "product_details.pro_id=product.pro_id\n",
    "inner join\n",
    "category on \n",
    "product.cat_id=category.cat_id\n",
    "where\n",
    "orders.ord_amount=(\n",
    "select min(orders.ord_amount) from orders)\n",
    "\"\"\"\n",
    "\n",
    "cursorObject.execute(Query6)\n",
    "output = cursorObject.fetchall()\n",
    "\n",
    "\n",
    "output_df = pd.DataFrame(output, columns=['CAT_NAME', 'PRO_NAME', 'ORD_AMOUNT'])\n",
    "output_df"
   ]
  },
  {
   "cell_type": "markdown",
   "id": "107102d4",
   "metadata": {
    "id": "107102d4"
   },
   "source": [
    "### Q7) Display the Id and Name of the Product ordered after “2021-10-05”."
   ]
  },
  {
   "cell_type": "code",
   "execution_count": 7,
   "id": "5d3fc7e8",
   "metadata": {
    "id": "5d3fc7e8"
   },
   "outputs": [
    {
     "data": {
      "text/html": [
       "<div>\n",
       "<style scoped>\n",
       "    .dataframe tbody tr th:only-of-type {\n",
       "        vertical-align: middle;\n",
       "    }\n",
       "\n",
       "    .dataframe tbody tr th {\n",
       "        vertical-align: top;\n",
       "    }\n",
       "\n",
       "    .dataframe thead th {\n",
       "        text-align: right;\n",
       "    }\n",
       "</style>\n",
       "<table border=\"1\" class=\"dataframe\">\n",
       "  <thead>\n",
       "    <tr style=\"text-align: right;\">\n",
       "      <th></th>\n",
       "      <th>PRO_ID</th>\n",
       "      <th>PRO_NAME</th>\n",
       "    </tr>\n",
       "  </thead>\n",
       "  <tbody>\n",
       "    <tr>\n",
       "      <th>0</th>\n",
       "      <td>4</td>\n",
       "      <td>OATS</td>\n",
       "    </tr>\n",
       "    <tr>\n",
       "      <th>1</th>\n",
       "      <td>1</td>\n",
       "      <td>GTA V</td>\n",
       "    </tr>\n",
       "  </tbody>\n",
       "</table>\n",
       "</div>"
      ],
      "text/plain": [
       "   PRO_ID PRO_NAME\n",
       "0       4     OATS\n",
       "1       1    GTA V"
      ]
     },
     "execution_count": 7,
     "metadata": {},
     "output_type": "execute_result"
    }
   ],
   "source": [
    "Query7= \"\"\"select product.pro_id,product.pro_name from `orders` inner join \n",
    "product_details on product_details.prod_id=`orders`.prod_id \n",
    "inner join product on product.pro_id=product_details.pro_id where `orders`.ord_date>\"2021-10-05\";\"\"\"\n",
    "\n",
    "cursorObject.execute(Query7)\n",
    "output = cursorObject.fetchall()\n",
    "\n",
    "\n",
    "output_df = pd.DataFrame(output, columns=['PRO_ID','PRO_NAME'])\n",
    "output_df"
   ]
  },
  {
   "cell_type": "markdown",
   "id": "bdce7167",
   "metadata": {
    "id": "bdce7167"
   },
   "source": [
    "### Q8) Print the top 3 supplier name and id and rating on the basis of their rating along with the customer name who has given the rating."
   ]
  },
  {
   "cell_type": "code",
   "execution_count": 9,
   "id": "fa0cbe44",
   "metadata": {
    "id": "fa0cbe44"
   },
   "outputs": [
    {
     "data": {
      "text/html": [
       "<div>\n",
       "<style scoped>\n",
       "    .dataframe tbody tr th:only-of-type {\n",
       "        vertical-align: middle;\n",
       "    }\n",
       "\n",
       "    .dataframe tbody tr th {\n",
       "        vertical-align: top;\n",
       "    }\n",
       "\n",
       "    .dataframe thead th {\n",
       "        text-align: right;\n",
       "    }\n",
       "</style>\n",
       "<table border=\"1\" class=\"dataframe\">\n",
       "  <thead>\n",
       "    <tr style=\"text-align: right;\">\n",
       "      <th></th>\n",
       "      <th>SUPP_ID</th>\n",
       "      <th>SUPP_NAME</th>\n",
       "      <th>CUS_NAME</th>\n",
       "      <th>RAT_RATSTARS</th>\n",
       "    </tr>\n",
       "  </thead>\n",
       "  <tbody>\n",
       "    <tr>\n",
       "      <th>0</th>\n",
       "      <td>1</td>\n",
       "      <td>Rajesh Retails</td>\n",
       "      <td>PULKIT</td>\n",
       "      <td>5</td>\n",
       "    </tr>\n",
       "    <tr>\n",
       "      <th>1</th>\n",
       "      <td>2</td>\n",
       "      <td>Appario Ltd.</td>\n",
       "      <td>AMAN</td>\n",
       "      <td>4</td>\n",
       "    </tr>\n",
       "    <tr>\n",
       "      <th>2</th>\n",
       "      <td>5</td>\n",
       "      <td>Mittal Ltd.</td>\n",
       "      <td>MEGHA</td>\n",
       "      <td>4</td>\n",
       "    </tr>\n",
       "  </tbody>\n",
       "</table>\n",
       "</div>"
      ],
      "text/plain": [
       "   SUPP_ID       SUPP_NAME CUS_NAME  RAT_RATSTARS\n",
       "0        1  Rajesh Retails   PULKIT             5\n",
       "1        2    Appario Ltd.     AMAN             4\n",
       "2        5     Mittal Ltd.    MEGHA             4"
      ]
     },
     "execution_count": 9,
     "metadata": {},
     "output_type": "execute_result"
    }
   ],
   "source": [
    "Query8 = \"\"\"\n",
    "select supplier.supp_id,supplier.supp_name,customer.cus_name,rating.rat_ratstars from rating inner join \n",
    "supplier on rating.supp_id=supplier.supp_id inner join customer on rating.cus_id=customer.cus_id \n",
    "order by rating.rat_ratstars desc limit 3;\n",
    "\"\"\"\n",
    "\n",
    "cursorObject.execute(Query8)\n",
    "output = cursorObject.fetchall()\n",
    "\n",
    "output_df = pd.DataFrame(output, columns=['SUPP_ID', 'SUPP_NAME', 'CUS_NAME', 'RAT_RATSTARS'])\n",
    "output_df"
   ]
  },
  {
   "cell_type": "markdown",
   "id": "346ec2a1",
   "metadata": {
    "id": "346ec2a1"
   },
   "source": [
    "### Q9) Display customer name and gender whose names start or end with character 'A'."
   ]
  },
  {
   "cell_type": "code",
   "execution_count": 10,
   "id": "e571b5fd",
   "metadata": {
    "id": "e571b5fd"
   },
   "outputs": [
    {
     "data": {
      "text/html": [
       "<div>\n",
       "<style scoped>\n",
       "    .dataframe tbody tr th:only-of-type {\n",
       "        vertical-align: middle;\n",
       "    }\n",
       "\n",
       "    .dataframe tbody tr th {\n",
       "        vertical-align: top;\n",
       "    }\n",
       "\n",
       "    .dataframe thead th {\n",
       "        text-align: right;\n",
       "    }\n",
       "</style>\n",
       "<table border=\"1\" class=\"dataframe\">\n",
       "  <thead>\n",
       "    <tr style=\"text-align: right;\">\n",
       "      <th></th>\n",
       "      <th>CUS_NAME</th>\n",
       "      <th>CUS_GENDER</th>\n",
       "    </tr>\n",
       "  </thead>\n",
       "  <tbody>\n",
       "    <tr>\n",
       "      <th>0</th>\n",
       "      <td>AAKASH</td>\n",
       "      <td>M</td>\n",
       "    </tr>\n",
       "    <tr>\n",
       "      <th>1</th>\n",
       "      <td>AMAN</td>\n",
       "      <td>M</td>\n",
       "    </tr>\n",
       "    <tr>\n",
       "      <th>2</th>\n",
       "      <td>NEHA</td>\n",
       "      <td>F</td>\n",
       "    </tr>\n",
       "    <tr>\n",
       "      <th>3</th>\n",
       "      <td>MEGHA</td>\n",
       "      <td>F</td>\n",
       "    </tr>\n",
       "  </tbody>\n",
       "</table>\n",
       "</div>"
      ],
      "text/plain": [
       "  CUS_NAME CUS_GENDER\n",
       "0   AAKASH          M\n",
       "1     AMAN          M\n",
       "2     NEHA          F\n",
       "3    MEGHA          F"
      ]
     },
     "execution_count": 10,
     "metadata": {},
     "output_type": "execute_result"
    }
   ],
   "source": [
    "Query9 = \"\"\"SELECT cus_name, cus_gender from customer where cus_name like '%A' or cus_name like 'A%'\"\"\"\n",
    "\n",
    "cursorObject.execute(Query9)\n",
    "output = cursorObject.fetchall()\n",
    "\n",
    "output_df = pd.DataFrame(output, columns=['CUS_NAME', 'CUS_GENDER'])\n",
    "output_df"
   ]
  },
  {
   "cell_type": "markdown",
   "id": "d0b01f77",
   "metadata": {
    "id": "d0b01f77"
   },
   "source": [
    "### Q10) Display the total order amount of the male customers."
   ]
  },
  {
   "cell_type": "code",
   "execution_count": 11,
   "id": "c3fa76e3",
   "metadata": {
    "id": "c3fa76e3"
   },
   "outputs": [
    {
     "data": {
      "text/html": [
       "<div>\n",
       "<style scoped>\n",
       "    .dataframe tbody tr th:only-of-type {\n",
       "        vertical-align: middle;\n",
       "    }\n",
       "\n",
       "    .dataframe tbody tr th {\n",
       "        vertical-align: top;\n",
       "    }\n",
       "\n",
       "    .dataframe thead th {\n",
       "        text-align: right;\n",
       "    }\n",
       "</style>\n",
       "<table border=\"1\" class=\"dataframe\">\n",
       "  <thead>\n",
       "    <tr style=\"text-align: right;\">\n",
       "      <th></th>\n",
       "      <th>SUM(ORD_AMOUNT)</th>\n",
       "    </tr>\n",
       "  </thead>\n",
       "  <tbody>\n",
       "    <tr>\n",
       "      <th>0</th>\n",
       "      <td>34500</td>\n",
       "    </tr>\n",
       "  </tbody>\n",
       "</table>\n",
       "</div>"
      ],
      "text/plain": [
       "  SUM(ORD_AMOUNT)\n",
       "0           34500"
      ]
     },
     "execution_count": 11,
     "metadata": {},
     "output_type": "execute_result"
    }
   ],
   "source": [
    "Query10 = \"\"\"SELECT SUM(ORD_AMOUNT) AS TOTAL FROM (\n",
    "SELECT O.ORD_AMOUNT,O.CUS_ID,C.CUS_GENDER\n",
    "FROM orders O\n",
    "INNER JOIN customer C\n",
    "ON O.CUS_ID = C.CUS_ID\n",
    "WHERE C.CUS_GENDER='M') T;\"\"\"\n",
    "\n",
    "cursorObject.execute(Query10)\n",
    "output = cursorObject.fetchall()\n",
    "\n",
    "output_df = pd.DataFrame(output, columns=['SUM(ORD_AMOUNT)'])\n",
    "output_df"
   ]
  },
  {
   "cell_type": "markdown",
   "id": "ff8a9971",
   "metadata": {
    "id": "ff8a9971"
   },
   "source": [
    "### Q11) Display all the Customers left outer join with  the orders"
   ]
  },
  {
   "cell_type": "code",
   "execution_count": 12,
   "id": "a340c6d6",
   "metadata": {
    "id": "a340c6d6"
   },
   "outputs": [
    {
     "data": {
      "text/html": [
       "<div>\n",
       "<style scoped>\n",
       "    .dataframe tbody tr th:only-of-type {\n",
       "        vertical-align: middle;\n",
       "    }\n",
       "\n",
       "    .dataframe tbody tr th {\n",
       "        vertical-align: top;\n",
       "    }\n",
       "\n",
       "    .dataframe thead th {\n",
       "        text-align: right;\n",
       "    }\n",
       "</style>\n",
       "<table border=\"1\" class=\"dataframe\">\n",
       "  <thead>\n",
       "    <tr style=\"text-align: right;\">\n",
       "      <th></th>\n",
       "      <th>CUS_ID</th>\n",
       "      <th>CUS_NAME</th>\n",
       "      <th>CUS_PHONE</th>\n",
       "      <th>CUS_CITY</th>\n",
       "      <th>CUS_GENDER</th>\n",
       "      <th>ORD_ID</th>\n",
       "      <th>ORD_AMOUNT</th>\n",
       "      <th>ORD_DATE</th>\n",
       "      <th>CUS_ID</th>\n",
       "      <th>PROD_ID</th>\n",
       "    </tr>\n",
       "  </thead>\n",
       "  <tbody>\n",
       "    <tr>\n",
       "      <th>0</th>\n",
       "      <td>1</td>\n",
       "      <td>AAKASH</td>\n",
       "      <td>9999999999</td>\n",
       "      <td>DELHI</td>\n",
       "      <td>M</td>\n",
       "      <td>26</td>\n",
       "      <td>2000</td>\n",
       "      <td>2021-10-05</td>\n",
       "      <td>1</td>\n",
       "      <td>1</td>\n",
       "    </tr>\n",
       "    <tr>\n",
       "      <th>1</th>\n",
       "      <td>2</td>\n",
       "      <td>AMAN</td>\n",
       "      <td>9785463215</td>\n",
       "      <td>NOIDA</td>\n",
       "      <td>M</td>\n",
       "      <td>50</td>\n",
       "      <td>2000</td>\n",
       "      <td>2021-10-06</td>\n",
       "      <td>2</td>\n",
       "      <td>1</td>\n",
       "    </tr>\n",
       "    <tr>\n",
       "      <th>2</th>\n",
       "      <td>3</td>\n",
       "      <td>NEHA</td>\n",
       "      <td>9999999999</td>\n",
       "      <td>MUMBAI</td>\n",
       "      <td>F</td>\n",
       "      <td>20</td>\n",
       "      <td>1500</td>\n",
       "      <td>2021-10-12</td>\n",
       "      <td>3</td>\n",
       "      <td>5</td>\n",
       "    </tr>\n",
       "    <tr>\n",
       "      <th>3</th>\n",
       "      <td>4</td>\n",
       "      <td>MEGHA</td>\n",
       "      <td>9994562399</td>\n",
       "      <td>KOLKATA</td>\n",
       "      <td>F</td>\n",
       "      <td>30</td>\n",
       "      <td>3500</td>\n",
       "      <td>2021-08-16</td>\n",
       "      <td>4</td>\n",
       "      <td>3</td>\n",
       "    </tr>\n",
       "    <tr>\n",
       "      <th>4</th>\n",
       "      <td>5</td>\n",
       "      <td>PULKIT</td>\n",
       "      <td>7895999999</td>\n",
       "      <td>LUCKNOW</td>\n",
       "      <td>M</td>\n",
       "      <td>25</td>\n",
       "      <td>30500</td>\n",
       "      <td>2021-09-16</td>\n",
       "      <td>5</td>\n",
       "      <td>2</td>\n",
       "    </tr>\n",
       "  </tbody>\n",
       "</table>\n",
       "</div>"
      ],
      "text/plain": [
       "   CUS_ID CUS_NAME   CUS_PHONE CUS_CITY CUS_GENDER  ORD_ID  ORD_AMOUNT  \\\n",
       "0       1   AAKASH  9999999999    DELHI          M      26        2000   \n",
       "1       2     AMAN  9785463215    NOIDA          M      50        2000   \n",
       "2       3     NEHA  9999999999   MUMBAI          F      20        1500   \n",
       "3       4    MEGHA  9994562399  KOLKATA          F      30        3500   \n",
       "4       5   PULKIT  7895999999  LUCKNOW          M      25       30500   \n",
       "\n",
       "     ORD_DATE  CUS_ID  PROD_ID  \n",
       "0  2021-10-05       1        1  \n",
       "1  2021-10-06       2        1  \n",
       "2  2021-10-12       3        5  \n",
       "3  2021-08-16       4        3  \n",
       "4  2021-09-16       5        2  "
      ]
     },
     "execution_count": 12,
     "metadata": {},
     "output_type": "execute_result"
    }
   ],
   "source": [
    "Query11 = cursorObject.execute(\"\"\"SELECT * FROM e_commerce.customer C LEFT OUTER JOIN e_commerce.orders O \n",
    "ON C.CUS_ID=O.CUS_ID;\"\"\")\n",
    "    \n",
    "output = cursorObject.fetchall()\n",
    "\n",
    "output_df = pd.DataFrame(output, columns = ['CUS_ID', 'CUS_NAME', 'CUS_PHONE', 'CUS_CITY', 'CUS_GENDER', 'ORD_ID', \n",
    "                                            'ORD_AMOUNT', 'ORD_DATE', 'CUS_ID', 'PROD_ID'])\n",
    "\n",
    "output_df"
   ]
  },
  {
   "cell_type": "code",
   "execution_count": 5,
   "id": "cbc2ffbc",
   "metadata": {},
   "outputs": [],
   "source": [
    "# closing connection\n",
    "\n",
    "connection.close()"
   ]
  },
  {
   "cell_type": "markdown",
   "id": "0a72afe3",
   "metadata": {
    "id": "0a72afe3"
   },
   "source": [
    "**NOTE:** Always close an open connection once you are done with the database operations"
   ]
  },
  {
   "cell_type": "markdown",
   "id": "8c88f479",
   "metadata": {
    "id": "8c88f479"
   },
   "source": [
    "## Happy Learning:)"
   ]
  }
 ],
 "metadata": {
  "colab": {
   "name": "Lab Session  -  E-Commerce.ipynb",
   "provenance": []
  },
  "kernelspec": {
   "display_name": "Python 3 (ipykernel)",
   "language": "python",
   "name": "python3"
  },
  "language_info": {
   "codemirror_mode": {
    "name": "ipython",
    "version": 3
   },
   "file_extension": ".py",
   "mimetype": "text/x-python",
   "name": "python",
   "nbconvert_exporter": "python",
   "pygments_lexer": "ipython3",
   "version": "3.11.5"
  }
 },
 "nbformat": 4,
 "nbformat_minor": 5
}
